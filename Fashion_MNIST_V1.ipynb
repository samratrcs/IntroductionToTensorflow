{
  "nbformat": 4,
  "nbformat_minor": 0,
  "metadata": {
    "colab": {
      "provenance": [],
      "authorship_tag": "ABX9TyMSmiEdQE+Lgf4avUQ2OYBT",
      "include_colab_link": true
    },
    "kernelspec": {
      "name": "python3",
      "display_name": "Python 3"
    },
    "language_info": {
      "name": "python"
    }
  },
  "cells": [
    {
      "cell_type": "markdown",
      "metadata": {
        "id": "view-in-github",
        "colab_type": "text"
      },
      "source": [
        "<a href=\"https://colab.research.google.com/github/samratrcs/IntroductionToTensorflow/blob/Week_2/Fashion_MNIST_V1.ipynb\" target=\"_parent\"><img src=\"https://colab.research.google.com/assets/colab-badge.svg\" alt=\"Open In Colab\"/></a>"
      ]
    },
    {
      "cell_type": "code",
      "execution_count": 1,
      "metadata": {
        "id": "4WPIScw0vwW_"
      },
      "outputs": [],
      "source": [
        "import tensorflow as tf\n",
        "import numpy as np\n",
        "from tensorflow import keras\n",
        "import matplotlib.pyplot as plt"
      ]
    },
    {
      "cell_type": "code",
      "source": [
        "fmnist = tf.keras.datasets.fashion_mnist"
      ],
      "metadata": {
        "id": "2AmPEdHpwiM7"
      },
      "execution_count": 2,
      "outputs": []
    },
    {
      "cell_type": "code",
      "source": [
        "(training_data, training_label), (test_data, test_label) = fmnist.load_data()"
      ],
      "metadata": {
        "colab": {
          "base_uri": "https://localhost:8080/"
        },
        "id": "sjHdIQHTxtoT",
        "outputId": "c613a151-d71e-418c-8de8-220c4ee17032"
      },
      "execution_count": 3,
      "outputs": [
        {
          "output_type": "stream",
          "name": "stdout",
          "text": [
            "Downloading data from https://storage.googleapis.com/tensorflow/tf-keras-datasets/train-labels-idx1-ubyte.gz\n",
            "29515/29515 [==============================] - 0s 0us/step\n",
            "Downloading data from https://storage.googleapis.com/tensorflow/tf-keras-datasets/train-images-idx3-ubyte.gz\n",
            "26421880/26421880 [==============================] - 0s 0us/step\n",
            "Downloading data from https://storage.googleapis.com/tensorflow/tf-keras-datasets/t10k-labels-idx1-ubyte.gz\n",
            "5148/5148 [==============================] - 0s 0us/step\n",
            "Downloading data from https://storage.googleapis.com/tensorflow/tf-keras-datasets/t10k-images-idx3-ubyte.gz\n",
            "4422102/4422102 [==============================] - 0s 0us/step\n"
          ]
        }
      ]
    },
    {
      "cell_type": "code",
      "source": [
        "index = 4260"
      ],
      "metadata": {
        "id": "g3SjI98GxwO3"
      },
      "execution_count": 4,
      "outputs": []
    },
    {
      "cell_type": "code",
      "source": [
        "np.set_printoptions(linewidth = 320)"
      ],
      "metadata": {
        "id": "Q5X9dnbR4StH"
      },
      "execution_count": 5,
      "outputs": []
    },
    {
      "cell_type": "code",
      "source": [
        "print(\"Label: \" + str(training_label[index]))\n",
        "print(training_data[index])"
      ],
      "metadata": {
        "colab": {
          "base_uri": "https://localhost:8080/"
        },
        "id": "olg6r6LZ4kcs",
        "outputId": "31572d99-fd5f-4904-90e1-3b6f30f1026e"
      },
      "execution_count": 6,
      "outputs": [
        {
          "output_type": "stream",
          "name": "stdout",
          "text": [
            "Label: 8\n",
            "[[  0   0   0   0   0   0   0   0   0   0   0   0   0   0 108 203  74   0   2   0   0   0   0   0   0   1   1   0]\n",
            " [  0   0   0   0   0   0   0   0   0   0   0   1   0  74  36  15 255   2   0   2   0   0   0   0   0   0   0   0]\n",
            " [  0   0   0   0   0   0   0   0   0   0   1   0   9 128   0   0  94 149   0   6   0   0   0   0   0   0   0   0]\n",
            " [  0   0   0   0   0   0   0   0   0   0   6   0 123 130   0   0   0 192   0   0   2   0   1   0   0   0   0   0]\n",
            " [  0   0   0   0   0   0   0   0   0   0   2   0 152  70   0   0   0 148  27   0   5   0   0   0   0   0   0   0]\n",
            " [  0   0   0   0   0   0   0   0   0   0   0  11 178   4   0   0   0 146  84   0   5   0   0   0   0   0   0   0]\n",
            " [  0   0   0   0   0   0   0   0   0   4   0  80 169   0   0   5   0 128 141   0   9   0   0   0   0   0   0   0]\n",
            " [  0   0   0   0   0   0   0   0   0   4   0 127 144   0   0   8   0 101 181   0   6   0   0   0   0   0   0   0]\n",
            " [  0   0   0   0   0   0   0   0   0   0   0 162 113   0   0   2   0  66 203   4   0   2   0   0   0   0   0   0]\n",
            " [  0   0   0   0   0   1   2   1   2   0   0 191  74   0   4   2   0  23 198  59   0   0   0   0   0   1   0   0]\n",
            " [  0   0   1   0   0   0   0   0   0   0  42 202  48   0   2   1   0   0 187 121   0   0   2   4   2   2   0   0]\n",
            " [  0   0   0   0   0   0   0   0   0   0  92 200   1   0   0   0   0   0 207 178   1   0   0   0   0   0   1   0]\n",
            " [  0   0   0   0   0 131 250 189 176 146 169 216  98 101 105  78  70  56 191 196 131 102 144 133 145   8   0   0]\n",
            " [  0   0  70  80 174 192 207 195 187 227 130 124 205 202 203 171 159 177 178 144 151 185 180 174 189 113   0   0]\n",
            " [  0   0   0  41 225 203 217 212 178 192  78  78 171 151 155 148 159 166 188 117 120 167 162 157 166 178  88   0]\n",
            " [  0   0   0  30 213 228 231 220 200 220 174 170 184 187 192 181 189 189 202 185 164 169 173 169 185 180  58   0]\n",
            " [  0   0   0  18 216 203 187 174 166 180 176 164 166 163 171 152 176 167 169 170 166 156 151 134 153 173  45   0]\n",
            " [  0   0   0   6 243 164 173 188 198 203 207 198 200 206 188 153 180 192 196 194 192 181 167 144 124 169  56   0]\n",
            " [  0   0   0   0 224 176 196 203 220 221 223 212 196 205 205 170 187 191 187 182 187 194 189 169 127 160  49   0]\n",
            " [  0   0   0   0 195 188 199 207 196 199 214 210 200 191 195 164 189 202 191 188 188 182 180 170 138 171  47   0]\n",
            " [  0   0   0   0 170 187 203 216 207 210 206 205 209 206 202 174 194 198 187 185 188 188 189 167 133 160  34   0]\n",
            " [  0   0   0   0 109 207 207 209 209 216 207 195 203 213 200 173 194 205 194 185 182 185 181 170 148 159  24   0]\n",
            " [  0   0   2   0  52 234 207 205 206 210 207 198 206 214 199 169 185 209 206 196 189 188 180 180 169 160  19   0]\n",
            " [  0   0   2   0  49 239 189 199 203 196 202 207 210 196 212 187 192 206 207 199 194 189 182 182 171 169  29   0]\n",
            " [  0   0   2   0  44 232 195 200 205 203 207 214 212 203 213 184 187 202 207 199 195 198 185 173 170 177  27   0]\n",
            " [  0   0   1   0  76 202 199 202 206 214 217 216 207 209 209 180 198 214 200 189 185 188 188 166 163 167  24   0]\n",
            " [  0   0   1   0 137 212 212 228 231 236 239 239 235 239 228 205 235 241 234 228 223 228 220 203 203 203  18   0]\n",
            " [  0   0   1   0  49 200 177 166 152 148 137 133 121 124 135 124 142 138 137 133 128 133 133 133 170 137   0   0]]\n"
          ]
        }
      ]
    },
    {
      "cell_type": "code",
      "source": [
        "plt.imshow(training_data[index])"
      ],
      "metadata": {
        "colab": {
          "base_uri": "https://localhost:8080/",
          "height": 448
        },
        "id": "dufc25Zg4xML",
        "outputId": "3bdeaea3-a9d6-40de-86bb-aba73aa0f8dd"
      },
      "execution_count": 7,
      "outputs": [
        {
          "output_type": "execute_result",
          "data": {
            "text/plain": [
              "<matplotlib.image.AxesImage at 0x7f3e3738b0d0>"
            ]
          },
          "metadata": {},
          "execution_count": 7
        },
        {
          "output_type": "display_data",
          "data": {
            "text/plain": [
              "<Figure size 640x480 with 1 Axes>"
            ],
            "image/png": "[encoded data removed]"
          },
          "metadata": {}
        }
      ]
    },
    {
      "cell_type": "code",
      "source": [],
      "metadata": {
        "id": "d-U4qtEb8BjA"
      },
      "execution_count": 7,
      "outputs": []
    },
    {
      "cell_type": "markdown",
      "source": [
        "## Normalizing the dataset between 0 an 1 by dividing all the pixels with 255\n"
      ],
      "metadata": {
        "id": "Kk2X1p9b8aG5"
      }
    },
    {
      "cell_type": "code",
      "source": [
        "training_data = training_data/255.0\n",
        "test_data = test_data/255.0"
      ],
      "metadata": {
        "id": "MxAMmJr28j6X"
      },
      "execution_count": 8,
      "outputs": []
    },
    {
      "cell_type": "markdown",
      "source": [
        "# Building the classification Model using Neural Network"
      ],
      "metadata": {
        "id": "67HW5EfY81Ps"
      }
    },
    {
      "cell_type": "code",
      "source": [
        "model = tf.keras.Sequential([##tf.keras.layers.Dense(units=1, input_shape=[28,28]),\n",
        "                             tf.keras.layers.Flatten(),\n",
        "                             tf.keras.layers.Dense(units=512, activation=tf.nn.relu),\n",
        "                             tf.keras.layers.Dense(units=10, activation=tf.nn.softmax)]\n",
        "                            )"
      ],
      "metadata": {
        "id": "jokpN89b85UG"
      },
      "execution_count": 9,
      "outputs": []
    },
    {
      "cell_type": "code",
      "source": [
        "model.compile(\n",
        "    optimizer=tf.optimizers.Adam(),\n",
        "    loss='sparse_categorical_crossentropy',\n",
        "    metrics=['accuracy']\n",
        ")\n",
        "\n",
        "model.fit(training_data, training_label, epochs=5)"
      ],
      "metadata": {
        "colab": {
          "base_uri": "https://localhost:8080/"
        },
        "id": "KVo1CE3Y95Ce",
        "outputId": "aea64a09-215d-446f-af00-147e2ef70440"
      },
      "execution_count": 10,
      "outputs": [
        {
          "output_type": "stream",
          "name": "stdout",
          "text": [
            "Epoch 1/5\n",
            "1875/1875 [==============================] - 23s 12ms/step - loss: 0.4728 - accuracy: 0.8318\n",
            "Epoch 2/5\n",
            "1875/1875 [==============================] - 16s 9ms/step - loss: 0.3577 - accuracy: 0.8687\n",
            "Epoch 3/5\n",
            "1875/1875 [==============================] - 13s 7ms/step - loss: 0.3209 - accuracy: 0.8818\n",
            "Epoch 4/5\n",
            "1875/1875 [==============================] - 13s 7ms/step - loss: 0.2992 - accuracy: 0.8890\n",
            "Epoch 5/5\n",
            "1875/1875 [==============================] - 13s 7ms/step - loss: 0.2802 - accuracy: 0.8961\n"
          ]
        },
        {
          "output_type": "execute_result",
          "data": {
            "text/plain": [
              "<keras.callbacks.History at 0x7f3e31c7fa30>"
            ]
          },
          "metadata": {},
          "execution_count": 10
        }
      ]
    },
    {
      "cell_type": "code",
      "source": [
        "model.evaluate(test_data, test_label)"
      ],
      "metadata": {
        "colab": {
          "base_uri": "https://localhost:8080/"
        },
        "id": "oPEFsY9QAN08",
        "outputId": "794680d4-c2c2-4411-9ed1-aef0ac8a36ae"
      },
      "execution_count": 11,
      "outputs": [
        {
          "output_type": "stream",
          "name": "stdout",
          "text": [
            "313/313 [==============================] - 1s 3ms/step - loss: 0.3386 - accuracy: 0.8779\n"
          ]
        },
        {
          "output_type": "execute_result",
          "data": {
            "text/plain": [
              "[0.33863797783851624, 0.8779000043869019]"
            ]
          },
          "metadata": {},
          "execution_count": 11
        }
      ]
    },
    {
      "cell_type": "code",
      "source": [
        "classifications = model.predict(test_data)\n",
        "\n",
        "print(classifications[0])\n",
        "print(test_label[0])"
      ],
      "metadata": {
        "colab": {
          "base_uri": "https://localhost:8080/",
          "height": 222
        },
        "id": "drStENeyAr2E",
        "outputId": "df9ddb06-0f6d-46b9-dfab-f16b1c83ea34"
      },
      "execution_count": 4,
      "outputs": [
        {
          "output_type": "error",
          "ename": "NameError",
          "evalue": "ignored",
          "traceback": [
            "\u001b[0;31m---------------------------------------------------------------------------\u001b[0m",
            "\u001b[0;31mNameError\u001b[0m                                 Traceback (most recent call last)",
            "\u001b[0;32m<ipython-input-4-801410ab2e2f>\u001b[0m in \u001b[0;36m<cell line: 1>\u001b[0;34m()\u001b[0m\n\u001b[0;32m----> 1\u001b[0;31m \u001b[0mclassifications\u001b[0m \u001b[0;34m=\u001b[0m \u001b[0mmodel\u001b[0m\u001b[0;34m.\u001b[0m\u001b[0mpredict\u001b[0m\u001b[0;34m(\u001b[0m\u001b[0mtest_data\u001b[0m\u001b[0;34m)\u001b[0m\u001b[0;34m\u001b[0m\u001b[0;34m\u001b[0m\u001b[0m\n\u001b[0m\u001b[1;32m      2\u001b[0m \u001b[0;34m\u001b[0m\u001b[0m\n\u001b[1;32m      3\u001b[0m \u001b[0mprint\u001b[0m\u001b[0;34m(\u001b[0m\u001b[0mclassifications\u001b[0m\u001b[0;34m[\u001b[0m\u001b[0;36m0\u001b[0m\u001b[0;34m]\u001b[0m\u001b[0;34m)\u001b[0m\u001b[0;34m\u001b[0m\u001b[0;34m\u001b[0m\u001b[0m\n\u001b[1;32m      4\u001b[0m \u001b[0mprint\u001b[0m\u001b[0;34m(\u001b[0m\u001b[0mtest_label\u001b[0m\u001b[0;34m[\u001b[0m\u001b[0;36m0\u001b[0m\u001b[0;34m]\u001b[0m\u001b[0;34m)\u001b[0m\u001b[0;34m\u001b[0m\u001b[0;34m\u001b[0m\u001b[0m\n",
            "\u001b[0;31mNameError\u001b[0m: name 'model' is not defined"
          ]
        }
      ]
    },
    {
      "cell_type": "markdown",
      "source": [
        "In case you want to predict for one input row this is how it is done below.\n",
        "The input has to be passed through a numpy array first and then it has to be passed through the predict function."
      ],
      "metadata": {
        "id": "Wob3jEndUIt_"
      }
    },
    {
      "cell_type": "code",
      "source": [
        "classifications = model.predict(np.array([test_data[0]]))"
      ],
      "metadata": {
        "colab": {
          "base_uri": "https://localhost:8080/"
        },
        "id": "xbG9y6WuC-Lo",
        "outputId": "051141ee-2eef-4bda-8b79-e18d551e911d"
      },
      "execution_count": 13,
      "outputs": [
        {
          "output_type": "stream",
          "name": "stdout",
          "text": [
            "1/1 [==============================] - 0s 21ms/step\n"
          ]
        }
      ]
    },
    {
      "cell_type": "code",
      "source": [
        "print(classifications)\n",
        "print(np.max(classifications))\n",
        "print(np.argmax(classifications))"
      ],
      "metadata": {
        "colab": {
          "base_uri": "https://localhost:8080/"
        },
        "id": "FJv1KIvhUnXE",
        "outputId": "b2a0087d-c8b1-47b6-f7d3-801a5a0cf215"
      },
      "execution_count": 14,
      "outputs": [
        {
          "output_type": "stream",
          "name": "stdout",
          "text": [
            "[[9.1334965e-07 4.5581090e-09 6.5449495e-09 7.9058076e-09 5.5068083e-09 5.8635388e-04 3.8789029e-08 5.6890096e-03 1.3436802e-07 9.9372357e-01]]\n",
            "0.9937236\n",
            "9\n"
          ]
        }
      ]
    },
    {
      "cell_type": "markdown",
      "source": [
        "# Callbacks"
      ],
      "metadata": {
        "id": "SjI3YdqvUpnc"
      }
    },
    {
      "cell_type": "code",
      "source": [
        "class callbacks(tf.keras.callbacks.Callback):\n",
        "  def on_epoch_end(self, epoch, logs={}):\n",
        "    print(logs)\n",
        "\n",
        "    if(logs.get('accuracy') > 0.6):\n",
        "    #if(logs.get('loss') < 0.6):\n",
        "      print(\"Model loss has gone below threshold of 0.6\")\n",
        "      self.model.stop_training = True\n",
        "\n",
        "\n",
        "callBack = callbacks()"
      ],
      "metadata": {
        "id": "Vfr7dd_b-XIv"
      },
      "execution_count": 15,
      "outputs": []
    },
    {
      "cell_type": "code",
      "source": [
        "model = tf.keras.models.Sequential([\n",
        "        tf.keras.layers.Flatten(input_shape = (28,28)),\n",
        "    tf.keras.layers.Dense(units = 512, activation = tf.nn.relu),\n",
        "    tf.keras.layers.Dense(units = 10, activation = tf.nn.softmax)\n",
        "])\n",
        "\n",
        "model.compile(optimizer=tf.optimizers.Adam(),\n",
        "              loss='sparse_categorical_crossentropy',\n",
        "              metrics=['accuracy'])\n",
        "\n",
        "model.fit(training_data, training_label, epochs=10, callbacks=[callBack])"
      ],
      "metadata": {
        "colab": {
          "base_uri": "https://localhost:8080/"
        },
        "id": "PVpzlUqb_O3i",
        "outputId": "7e2c4b1c-083f-4a49-d7ae-cf55be6368ac"
      },
      "execution_count": 16,
      "outputs": [
        {
          "output_type": "stream",
          "name": "stdout",
          "text": [
            "Epoch 1/10\n",
            "1870/1875 [============================>.] - ETA: 0s - loss: 4.5234 - accuracy: 0.7625{'loss': 4.513705730438232, 'accuracy': 0.762499988079071}\n",
            "Model loss has gone below threshold of 0.6\n",
            "1875/1875 [==============================] - 12s 6ms/step - loss: 4.5137 - accuracy: 0.7625\n"
          ]
        },
        {
          "output_type": "execute_result",
          "data": {
            "text/plain": [
              "<keras.callbacks.History at 0x7f0793e7ea70>"
            ]
          },
          "metadata": {},
          "execution_count": 16
        }
      ]
    },
    {
      "cell_type": "code",
      "source": [],
      "metadata": {
        "id": "mMMAcyFE_alM"
      },
      "execution_count": null,
      "outputs": []
    }
  ]
}