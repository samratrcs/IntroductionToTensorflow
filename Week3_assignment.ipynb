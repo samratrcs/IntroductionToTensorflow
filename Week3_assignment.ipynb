{
  "nbformat": 4,
  "nbformat_minor": 0,
  "metadata": {
    "colab": {
      "provenance": [],
      "authorship_tag": "ABX9TyPeasSAEZd1Lgd73eOsScXK",
      "include_colab_link": true
    },
    "kernelspec": {
      "name": "python3",
      "display_name": "Python 3"
    },
    "language_info": {
      "name": "python"
    }
  },
  "cells": [
    {
      "cell_type": "markdown",
      "metadata": {
        "id": "view-in-github",
        "colab_type": "text"
      },
      "source": [
        "<a href=\"https://colab.research.google.com/github/samratrcs/IntroductionToTensorflow/blob/Week_3/Week3_assignment.ipynb\" target=\"_parent\"><img src=\"https://colab.research.google.com/assets/colab-badge.svg\" alt=\"Open In Colab\"/></a>"
      ]
    },
    {
      "cell_type": "markdown",
      "source": [],
      "metadata": {
        "id": "tKS7QOsqFFc5"
      }
    },
    {
      "cell_type": "markdown",
      "source": [
        "Exercise 3\n",
        "In the videos you looked at how you would improve Fashion MNIST using Convolutions. For your exercise see if you can improve MNIST to 99.8% accuracy or more using only a single convolutional layer and a single MaxPooling 2D. You should stop training once the accuracy goes above this amount. It should happen in less than 20 epochs, so it's ok to hard code the number of epochs for training, but your training must end once it hits the above metric. If it doesn't, then you'll need to redesign your layers.\n",
        "\n",
        "I've started the code for you -- you need to finish it!\n",
        "\n",
        "When 99.8% accuracy has been hit, you should print out the string \"Reached 99.8% accuracy so cancelling training!\""
      ],
      "metadata": {
        "id": "dPOlPbLvFHBZ"
      }
    },
    {
      "cell_type": "code",
      "source": [],
      "metadata": {
        "id": "zQOg6JcmFIjE"
      },
      "execution_count": null,
      "outputs": []
    },
    {
      "cell_type": "code",
      "source": [
        "import tensorflow as tf"
      ],
      "metadata": {
        "id": "Gc83WltyFJJV"
      },
      "execution_count": 1,
      "outputs": []
    },
    {
      "cell_type": "code",
      "source": [
        "fmnist = tf.keras.datasets.fashion_mnist"
      ],
      "metadata": {
        "id": "mgWSjVwyFLJm"
      },
      "execution_count": 2,
      "outputs": []
    },
    {
      "cell_type": "code",
      "source": [
        "((train_data, train_label), (test_data, test_label)) = fmnist.load_data()"
      ],
      "metadata": {
        "colab": {
          "base_uri": "https://localhost:8080/"
        },
        "id": "F5oAfjwUFRUO",
        "outputId": "87410139-67ba-41e5-b858-b11e820d2c3e"
      },
      "execution_count": 3,
      "outputs": [
        {
          "output_type": "stream",
          "name": "stdout",
          "text": [
            "Downloading data from https://storage.googleapis.com/tensorflow/tf-keras-datasets/train-labels-idx1-ubyte.gz\n",
            "29515/29515 [==============================] - 0s 0us/step\n",
            "Downloading data from https://storage.googleapis.com/tensorflow/tf-keras-datasets/train-images-idx3-ubyte.gz\n",
            "26421880/26421880 [==============================] - 0s 0us/step\n",
            "Downloading data from https://storage.googleapis.com/tensorflow/tf-keras-datasets/t10k-labels-idx1-ubyte.gz\n",
            "5148/5148 [==============================] - 0s 0us/step\n",
            "Downloading data from https://storage.googleapis.com/tensorflow/tf-keras-datasets/t10k-images-idx3-ubyte.gz\n",
            "4422102/4422102 [==============================] - 0s 0us/step\n"
          ]
        }
      ]
    },
    {
      "cell_type": "code",
      "source": [
        "train_data = train_data/255.0\n",
        "test_data = test_data/255.0"
      ],
      "metadata": {
        "id": "rRrIJEaLFhmR"
      },
      "execution_count": 4,
      "outputs": []
    },
    {
      "cell_type": "code",
      "source": [
        "#Writing a call back function to stop calling at a certain accuracy\n",
        "class my_callback(tf.keras.callbacks.Callback):\n",
        "  def on_epoch_end(self, epoch, logs={}):\n",
        "\n",
        "    if(logs.get('accuracy') > 0.988):\n",
        "      print(\"Reached 99.8% accuracy, hence calncelling ttraining\")\n",
        "      self.model.stop_training = True\n",
        "\n",
        "callback = my_callback()"
      ],
      "metadata": {
        "id": "jeViDWftFqIo"
      },
      "execution_count": 5,
      "outputs": []
    },
    {
      "cell_type": "code",
      "source": [
        "model = tf.keras.models.Sequential([\n",
        "    tf.keras.layers.Conv2D(filters = 64, kernel_size=(3,3), activation=tf.keras.activations.relu, input_shape=(28,28,1)),\n",
        "    tf.keras.layers.MaxPool2D((2,2)),\n",
        "    tf.keras.layers.Flatten(),\n",
        "    tf.keras.layers.Dense(128, activation=tf.keras.activations.relu),\n",
        "    tf.keras.layers.Dense(10, activation=tf.keras.activations.softmax)\n",
        "])\n",
        "\n",
        "model.compile(optimizer='adam', loss='sparse_categorical_crossentropy', metrics=['accuracy'])"
      ],
      "metadata": {
        "id": "FXYv5E-8Ihfy"
      },
      "execution_count": 9,
      "outputs": []
    },
    {
      "cell_type": "code",
      "source": [
        "model.fit(train_data, train_label, epochs = 20)"
      ],
      "metadata": {
        "colab": {
          "base_uri": "https://localhost:8080/"
        },
        "id": "-lkGdMBfI9Qi",
        "outputId": "105ce2bc-70e3-4703-e2e4-f3499bcc6094"
      },
      "execution_count": 10,
      "outputs": [
        {
          "output_type": "stream",
          "name": "stdout",
          "text": [
            "Epoch 1/20\n",
            "1875/1875 [==============================] - 75s 39ms/step - loss: 0.3727 - accuracy: 0.8665\n",
            "Epoch 2/20\n",
            "1875/1875 [==============================] - 74s 40ms/step - loss: 0.2510 - accuracy: 0.9073\n",
            "Epoch 3/20\n",
            "1875/1875 [==============================] - 71s 38ms/step - loss: 0.2047 - accuracy: 0.9239\n",
            "Epoch 4/20\n",
            "1875/1875 [==============================] - 67s 36ms/step - loss: 0.1712 - accuracy: 0.9357\n",
            "Epoch 5/20\n",
            "1875/1875 [==============================] - 65s 35ms/step - loss: 0.1443 - accuracy: 0.9467\n",
            "Epoch 6/20\n",
            "1875/1875 [==============================] - 67s 36ms/step - loss: 0.1213 - accuracy: 0.9545\n",
            "Epoch 7/20\n",
            "1875/1875 [==============================] - 67s 36ms/step - loss: 0.1003 - accuracy: 0.9632\n",
            "Epoch 8/20\n",
            "1875/1875 [==============================] - 68s 36ms/step - loss: 0.0828 - accuracy: 0.9693\n",
            "Epoch 9/20\n",
            "1875/1875 [==============================] - 68s 36ms/step - loss: 0.0687 - accuracy: 0.9747\n",
            "Epoch 10/20\n",
            "1875/1875 [==============================] - 68s 36ms/step - loss: 0.0581 - accuracy: 0.9789\n",
            "Epoch 11/20\n",
            "1875/1875 [==============================] - 67s 36ms/step - loss: 0.0501 - accuracy: 0.9821\n",
            "Epoch 12/20\n",
            "1875/1875 [==============================] - 66s 35ms/step - loss: 0.0426 - accuracy: 0.9851\n",
            "Epoch 13/20\n",
            "1875/1875 [==============================] - 68s 36ms/step - loss: 0.0355 - accuracy: 0.9883\n",
            "Epoch 14/20\n",
            "1875/1875 [==============================] - 72s 38ms/step - loss: 0.0309 - accuracy: 0.9886\n",
            "Epoch 15/20\n",
            "1875/1875 [==============================] - 68s 36ms/step - loss: 0.0278 - accuracy: 0.9903\n",
            "Epoch 16/20\n",
            "1875/1875 [==============================] - 65s 35ms/step - loss: 0.0221 - accuracy: 0.9923\n",
            "Epoch 17/20\n",
            "1875/1875 [==============================] - 65s 35ms/step - loss: 0.0246 - accuracy: 0.9913\n",
            "Epoch 18/20\n",
            "1875/1875 [==============================] - 68s 36ms/step - loss: 0.0209 - accuracy: 0.9929\n",
            "Epoch 19/20\n",
            "1875/1875 [==============================] - 67s 36ms/step - loss: 0.0180 - accuracy: 0.9937\n",
            "Epoch 20/20\n",
            "1875/1875 [==============================] - 66s 35ms/step - loss: 0.0180 - accuracy: 0.9941\n"
          ]
        },
        {
          "output_type": "execute_result",
          "data": {
            "text/plain": [
              "<keras.callbacks.History at 0x7b7a8639db40>"
            ]
          },
          "metadata": {},
          "execution_count": 10
        }
      ]
    },
    {
      "cell_type": "code",
      "source": [
        "model.summary()"
      ],
      "metadata": {
        "colab": {
          "base_uri": "https://localhost:8080/"
        },
        "id": "nizePu6hI_li",
        "outputId": "c9f8530f-b564-4f34-b8d1-7559d05bca27"
      },
      "execution_count": 11,
      "outputs": [
        {
          "output_type": "stream",
          "name": "stdout",
          "text": [
            "Model: \"sequential\"\n",
            "_________________________________________________________________\n",
            " Layer (type)                Output Shape              Param #   \n",
            "=================================================================\n",
            " conv2d_1 (Conv2D)           (None, 26, 26, 64)        640       \n",
            "                                                                 \n",
            " max_pooling2d_1 (MaxPooling  (None, 13, 13, 64)       0         \n",
            " 2D)                                                             \n",
            "                                                                 \n",
            " flatten_1 (Flatten)         (None, 10816)             0         \n",
            "                                                                 \n",
            " dense (Dense)               (None, 128)               1384576   \n",
            "                                                                 \n",
            " dense_1 (Dense)             (None, 10)                1290      \n",
            "                                                                 \n",
            "=================================================================\n",
            "Total params: 1,386,506\n",
            "Trainable params: 1,386,506\n",
            "Non-trainable params: 0\n",
            "_________________________________________________________________\n"
          ]
        }
      ]
    },
    {
      "cell_type": "code",
      "source": [
        ""
      ],
      "metadata": {
        "id": "5XWnD-XQQOil"
      },
      "execution_count": null,
      "outputs": []
    }
  ]
}